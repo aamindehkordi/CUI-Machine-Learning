{
 "cells": [
  {
   "attachments": {
    "k_nearest_neighbors.png": {
     "image/png": "[encoded data removed]"
    }
   },
   "cell_type": "markdown",
   "id": "06cea19f",
   "metadata": {},
   "source": [
    "# K-Nearest Neighbors #\n",
    "\n",
    "K-Nearest Neighbors (KNN) is a ML model that classifies each sample by its distance to neighboring data points. KNN is a classification algorithm, so it is based on having a training dataset whose labels are known ahead of time. From all of this training data, the algorithm finds the closest `k` neighbors to any new sample and it ignores all of the others. From those closest `k` neighbors, the algorithm selects whichever label is most common.\n",
    "\n",
    "For example, consider a dataset that contains two labels: black and green. KNN might be used to predict the label of a new sample, which has been drawn as a red dot. In this particular case, the value of `k` is 5 and the five closest neighbors include three black samples and two green samples. Since there are more black labels than green labels, the new point will be clasified as black.\n",
    "\n",
    "![k_nearest_neighbors.png](attachment:k_nearest_neighbors.png)\n",
    "\n",
    "Most of the time, KNN uses Euclidean Distance to find the nearest neighbors although other distance metrics are possible. One such example is Manhattan Distance. In the same way, KNN typically uses majority voting to determine the winning label but other voting techniques are possible such as weighted voting.\n",
    "\n",
    "### References: ###\n",
    "* [MachineLearning — KNN Using SciKit-Learn by Sanjay.M](https://medium.com/towards-data-science/knn-using-scikit-learn-c6bed765be75)\n",
    "* [Everything You Ever Wanted to Know About K-Nearest Neighbors by Tyler Folkman](https://towardsdatascience.com/everything-you-ever-wanted-to-know-about-k-nearest-neighbors-dab986e21b60)\n",
    "* [How to Find the Optimal Value of K in KNN? by Amey Band](https://towardsdatascience.com/how-to-find-the-optimal-value-of-k-in-knn-35d936e554eb)"
   ]
  },
  {
   "cell_type": "code",
   "execution_count": 22,
   "id": "dfd56ce7",
   "metadata": {},
   "outputs": [],
   "source": [
    "import numpy as np\n",
    "import pandas as pd\n",
    "import matplotlib.pyplot as plt\n",
    "from sklearn.preprocessing import MinMaxScaler\n",
    "from sklearn.model_selection import train_test_split\n",
    "from sklearn.neighbors import KNeighborsClassifier"
   ]
  },
  {
   "cell_type": "markdown",
   "id": "189d801a",
   "metadata": {},
   "source": [
    "## Dataset ##\n",
    "\n",
    "A former CUI mathematician and waterpolo player, Marius, created a beverage classifier as part of his senior research project. Marius wrote a KNN classifier that would predict whether a drink was beer or wine based on its color and alcohol content.\n",
    "\n",
    "Data collection was one of the hardest parts of this beverage classifier project. Marius used a small camera-like device called a colorimeter to measure the color of each drink. The color readings were given in 24-bit hex values that represented the RGB components of each color. Marius obtained the alcohol content by reading the nutrition information on each beverage's package label.\n",
    "\n",
    "Early on in the project, Marius discovered that his model gave inaccurate predictions. He correctly diagnosed the problem by manually looking up the color of each beverage. Marius found that the RGB values he had recorded did not look like the color of the drinks. The problem was that he had measured the color of each beverage at different times of the day under different lighting conditions. To make matters worse, the beverages were translucent in color and whatever was behind the drink would tint its image. Marius re-measured all of the colors and his results improved significantly."
   ]
  },
  {
   "cell_type": "code",
   "execution_count": 23,
   "id": "5c10683b",
   "metadata": {
    "scrolled": true
   },
   "outputs": [],
   "source": [
    "filename = 'drink_data_from_marius.csv'\n",
    "if filename[-3:] == \"csv\":\n",
    "    df = pd.read_csv(filename)\n",
    "\n",
    "labels = [ \"Green\", \"Blue\", \"Type\"]\n",
    "df = df[labels]\n",
    "df[\"Type\"] = df[\"Type\"].map({'Wine': 0,'Beer':1})\n",
    "data = df.values"
   ]
  },
  {
   "cell_type": "code",
   "execution_count": 24,
   "outputs": [
    {
     "data": {
      "text/plain": "array([[ 68,   7,   0],\n       [ 54,   5,   0],\n       [193,   1,   1],\n       [157,   0,   1],\n       [ 45,   3,   0],\n       [ 37,   3,   0],\n       [141,   3,   1],\n       [ 43,  15,   0],\n       [110,  18,   1],\n       [242,  26,   1],\n       [244,  56,   1],\n       [ 35,   4,   0],\n       [218,  38,   1],\n       [229,  16,   1],\n       [ 48,  18,   0],\n       [243,   2,   1],\n       [226,  16,   1],\n       [ 44,  22,   0],\n       [196,   6,   1],\n       [ 40,   3,   0],\n       [238,  75,   1],\n       [173,   5,   1],\n       [202,  46,   1],\n       [129,  96,   0],\n       [ 67,  41,   0],\n       [ 33,   7,   0],\n       [ 42,   5,   0],\n       [136,   8,   1],\n       [151,   6,   1],\n       [122,   5,   1],\n       [ 17,   6,   0],\n       [ 31,   8,   1],\n       [133,  17,   1],\n       [ 32,  11,   0],\n       [ 84,  65,   0],\n       [ 28,  14,   0],\n       [ 36,   9,   0],\n       [ 16,   5,   0],\n       [ 29,  21,   0],\n       [ 23,   8,   0],\n       [ 66,  50,   0]])"
     },
     "execution_count": 24,
     "metadata": {},
     "output_type": "execute_result"
    }
   ],
   "source": [
    "\n",
    "\n",
    "\n",
    "data"
   ],
   "metadata": {
    "collapsed": false,
    "pycharm": {
     "name": "#%%\n"
    }
   }
  },
  {
   "cell_type": "markdown",
   "source": [
    "## Train/Test Split ##\n",
    "\n",
    "Supervised learning algorithms require you to divide the labeled data into two sets: the training set and the test set. The training set will be used find patterns in the data and create a model. The test data will be used to evaluate the accuracy of the model. Usually the training set is much bigger than the test set.\n",
    "\n",
    "Once you set some of the data aside for testing, you cannotuse it to tune the model. Any and all tuning must be performed using only the training data. Once you are satisified that the model is of sufficient quality, then you test it. If you are unhappy with the test results, then you must gather new test data before going back and retuning the model."
   ],
   "metadata": {
    "collapsed": false
   }
  },
  {
   "cell_type": "code",
   "execution_count": 25,
   "outputs": [
    {
     "name": "stdout",
     "output_type": "stream",
     "text": [
      "Training Data:   (32, 2)\n",
      "Training Labels: (32,)\n"
     ]
    },
    {
     "data": {
      "text/plain": "array([[0.10132159, 0.02105263],\n       [0.2246696 , 0.06315789],\n       [0.        , 0.05263158],\n       [0.22026432, 0.42105263],\n       [0.49339207, 1.        ],\n       [0.11894273, 0.22105263],\n       [0.78854626, 0.05263158],\n       [0.51101322, 0.16842105],\n       [0.59030837, 0.05263158],\n       [0.08810573, 0.02105263],\n       [0.68722467, 0.04210526],\n       [0.46255507, 0.04210526],\n       [0.7753304 , 0.        ],\n       [0.40969163, 0.17894737],\n       [0.52422907, 0.07368421],\n       [0.12334802, 0.02105263],\n       [0.13656388, 0.17894737],\n       [0.88546256, 0.38947368],\n       [0.0660793 , 0.10526316],\n       [0.08370044, 0.08421053],\n       [0.11013216, 0.04210526],\n       [0.29515419, 0.67368421],\n       [0.9339207 , 0.15789474],\n       [0.07929515, 0.03157895],\n       [0.16299559, 0.04210526],\n       [0.07048458, 0.06315789],\n       [0.92070485, 0.15789474],\n       [0.99559471, 0.01052632],\n       [0.97356828, 0.77894737],\n       [0.04845815, 0.13684211],\n       [0.99118943, 0.26315789],\n       [1.        , 0.57894737]])"
     },
     "execution_count": 25,
     "metadata": {},
     "output_type": "execute_result"
    }
   ],
   "source": [
    "from sklearn.model_selection import train_test_split\n",
    "from sklearn.preprocessing import MinMaxScaler\n",
    "scaler = MinMaxScaler()\n",
    "X = df[[ \"Green\", \"Blue\"]]\n",
    "y = df[\"Type\"]\n",
    "\n",
    "\n",
    "X_train, X_test, y_train, y_test = train_test_split(X, y, test_size=0.20, random_state=6)\n",
    "scaler.fit(X_train)\n",
    "X_train_scaled = scaler.transform(X_train)\n",
    "X_test_scaled = scaler.transform(X_test)\n",
    "print(f\"Training Data:   {X_train.shape}\")\n",
    "print(f\"Training Labels: {y_train.shape}\")\n",
    "X_train.head()\n",
    "X_train_scaled"
   ],
   "metadata": {
    "collapsed": false,
    "pycharm": {
     "name": "#%%\n"
    }
   }
  },
  {
   "cell_type": "code",
   "execution_count": 26,
   "id": "cc43f49e",
   "metadata": {},
   "outputs": [],
   "source": [
    "# Three lines runs the actual algorithm\n",
    "knn = KNeighborsClassifier(n_neighbors=3)\n",
    "knn.fit(X_train_scaled, y_train)\n",
    "y_pred = knn.predict(X_test_scaled)"
   ]
  },
  {
   "cell_type": "code",
   "execution_count": 27,
   "id": "a2b48bb8",
   "metadata": {},
   "outputs": [
    {
     "data": {
      "text/plain": "    Prediction  Truth  Result\n6            1      1    True\n22           1      1    True\n31           0      1   False\n40           0      0    True\n37           0      0    True\n38           0      0    True\n3            1      1    True\n7            0      0    True\n39           0      0    True",
      "text/html": "<div>\n<style scoped>\n    .dataframe tbody tr th:only-of-type {\n        vertical-align: middle;\n    }\n\n    .dataframe tbody tr th {\n        vertical-align: top;\n    }\n\n    .dataframe thead th {\n        text-align: right;\n    }\n</style>\n<table border=\"1\" class=\"dataframe\">\n  <thead>\n    <tr style=\"text-align: right;\">\n      <th></th>\n      <th>Prediction</th>\n      <th>Truth</th>\n      <th>Result</th>\n    </tr>\n  </thead>\n  <tbody>\n    <tr>\n      <th>6</th>\n      <td>1</td>\n      <td>1</td>\n      <td>True</td>\n    </tr>\n    <tr>\n      <th>22</th>\n      <td>1</td>\n      <td>1</td>\n      <td>True</td>\n    </tr>\n    <tr>\n      <th>31</th>\n      <td>0</td>\n      <td>1</td>\n      <td>False</td>\n    </tr>\n    <tr>\n      <th>40</th>\n      <td>0</td>\n      <td>0</td>\n      <td>True</td>\n    </tr>\n    <tr>\n      <th>37</th>\n      <td>0</td>\n      <td>0</td>\n      <td>True</td>\n    </tr>\n    <tr>\n      <th>38</th>\n      <td>0</td>\n      <td>0</td>\n      <td>True</td>\n    </tr>\n    <tr>\n      <th>3</th>\n      <td>1</td>\n      <td>1</td>\n      <td>True</td>\n    </tr>\n    <tr>\n      <th>7</th>\n      <td>0</td>\n      <td>0</td>\n      <td>True</td>\n    </tr>\n    <tr>\n      <th>39</th>\n      <td>0</td>\n      <td>0</td>\n      <td>True</td>\n    </tr>\n  </tbody>\n</table>\n</div>"
     },
     "execution_count": 27,
     "metadata": {},
     "output_type": "execute_result"
    }
   ],
   "source": [
    "scores = pd.DataFrame(data={\"Prediction\":y_pred, \"Truth\":y_test})\n",
    "scores[\"Result\"] = scores['Prediction'] == scores['Truth']\n",
    "scores\n"
   ]
  },
  {
   "cell_type": "code",
   "execution_count": 28,
   "id": "6479795e",
   "metadata": {},
   "outputs": [
    {
     "data": {
      "text/plain": "Green    31\nBlue      8\nType      1\nName: 31, dtype: int64"
     },
     "execution_count": 28,
     "metadata": {},
     "output_type": "execute_result"
    }
   ],
   "source": [
    "# What was the sample that we predicted incorrectly? ...that beer is awfully red\n",
    "df.loc[31]\n"
   ]
  },
  {
   "cell_type": "markdown",
   "id": "27db9e16",
   "metadata": {},
   "source": [
    "## Evaluating the Model ##\n",
    "\n",
    "The basic metrics used to evaluate classification algorithm are easy to understand for binary classifiers: accuracy, precision, and recall. They are based on knowing the difference between a true positive, false positive, true negative, and false negative. We also have to assign one of the two labels to be the positive case. In this situation, we'll consider `Beer` to be the positive class."
   ]
  },
  {
   "cell_type": "code",
   "execution_count": 29,
   "id": "5bb34f94",
   "metadata": {},
   "outputs": [
    {
     "ename": "ZeroDivisionError",
     "evalue": "division by zero",
     "output_type": "error",
     "traceback": [
      "\u001B[0;31m---------------------------------------------------------------------------\u001B[0m",
      "\u001B[0;31mZeroDivisionError\u001B[0m                         Traceback (most recent call last)",
      "Input \u001B[0;32mIn [29]\u001B[0m, in \u001B[0;36m<module>\u001B[0;34m\u001B[0m\n\u001B[1;32m      3\u001B[0m tn \u001B[38;5;241m=\u001B[39m scores[(scores[\u001B[38;5;124m\"\u001B[39m\u001B[38;5;124mPrediction\u001B[39m\u001B[38;5;124m\"\u001B[39m] \u001B[38;5;241m==\u001B[39m \u001B[38;5;124m\"\u001B[39m\u001B[38;5;124mWine\u001B[39m\u001B[38;5;124m\"\u001B[39m) \u001B[38;5;241m&\u001B[39m (scores[\u001B[38;5;124m\"\u001B[39m\u001B[38;5;124mTruth\u001B[39m\u001B[38;5;124m\"\u001B[39m] \u001B[38;5;241m==\u001B[39m \u001B[38;5;124m\"\u001B[39m\u001B[38;5;124mWine\u001B[39m\u001B[38;5;124m\"\u001B[39m)]\u001B[38;5;241m.\u001B[39mshape[\u001B[38;5;241m0\u001B[39m]\n\u001B[1;32m      4\u001B[0m fn \u001B[38;5;241m=\u001B[39m scores[(scores[\u001B[38;5;124m\"\u001B[39m\u001B[38;5;124mPrediction\u001B[39m\u001B[38;5;124m\"\u001B[39m] \u001B[38;5;241m==\u001B[39m \u001B[38;5;124m\"\u001B[39m\u001B[38;5;124mWine\u001B[39m\u001B[38;5;124m\"\u001B[39m) \u001B[38;5;241m&\u001B[39m (scores[\u001B[38;5;124m\"\u001B[39m\u001B[38;5;124mTruth\u001B[39m\u001B[38;5;124m\"\u001B[39m] \u001B[38;5;241m!=\u001B[39m \u001B[38;5;124m\"\u001B[39m\u001B[38;5;124mWine\u001B[39m\u001B[38;5;124m\"\u001B[39m)]\u001B[38;5;241m.\u001B[39mshape[\u001B[38;5;241m0\u001B[39m]\n\u001B[0;32m----> 6\u001B[0m accuracy \u001B[38;5;241m=\u001B[39m \u001B[43m(\u001B[49m\u001B[43mtp\u001B[49m\u001B[43m \u001B[49m\u001B[38;5;241;43m+\u001B[39;49m\u001B[43m \u001B[49m\u001B[43mtn\u001B[49m\u001B[43m)\u001B[49m\u001B[43m \u001B[49m\u001B[38;5;241;43m/\u001B[39;49m\u001B[43m \u001B[49m\u001B[43m(\u001B[49m\u001B[43mtp\u001B[49m\u001B[43m \u001B[49m\u001B[38;5;241;43m+\u001B[39;49m\u001B[43m \u001B[49m\u001B[43mtn\u001B[49m\u001B[43m \u001B[49m\u001B[38;5;241;43m+\u001B[39;49m\u001B[43m \u001B[49m\u001B[43mfp\u001B[49m\u001B[43m \u001B[49m\u001B[38;5;241;43m+\u001B[39;49m\u001B[43m \u001B[49m\u001B[43mfn\u001B[49m\u001B[43m)\u001B[49m\n\u001B[1;32m      7\u001B[0m \u001B[38;5;28mprint\u001B[39m(\u001B[38;5;124mf\u001B[39m\u001B[38;5;124m\"\u001B[39m\u001B[38;5;124mAccuracy:  \u001B[39m\u001B[38;5;132;01m{\u001B[39;00maccuracy\u001B[38;5;132;01m}\u001B[39;00m\u001B[38;5;124m\"\u001B[39m)\n\u001B[1;32m      9\u001B[0m precision \u001B[38;5;241m=\u001B[39m tp \u001B[38;5;241m/\u001B[39m (tp \u001B[38;5;241m+\u001B[39m fp)\n",
      "\u001B[0;31mZeroDivisionError\u001B[0m: division by zero"
     ]
    }
   ],
   "source": [
    "tp = scores[(scores[\"Prediction\"] == \"Beer\") & (scores[\"Truth\"] == \"Beer\")].shape[0]\n",
    "fp = scores[(scores[\"Prediction\"] == \"Beer\") & (scores[\"Truth\"] != \"Beer\")].shape[0]\n",
    "tn = scores[(scores[\"Prediction\"] == \"Wine\") & (scores[\"Truth\"] == \"Wine\")].shape[0]\n",
    "fn = scores[(scores[\"Prediction\"] == \"Wine\") & (scores[\"Truth\"] != \"Wine\")].shape[0]\n",
    "\n",
    "accuracy = (tp + tn) / (tp + tn + fp + fn)\n",
    "print(f\"Accuracy:  {accuracy}\")\n",
    "\n",
    "precision = tp / (tp + fp)\n",
    "print(f\"Precision: {precision}\")\n",
    "\n",
    "recall = tp / (tp + fn)\n",
    "print(f\"Recall:    {recall}\")"
   ]
  },
  {
   "cell_type": "code",
   "execution_count": null,
   "id": "8b09ab92",
   "metadata": {},
   "outputs": [],
   "source": [
    "from sklearn import metrics\n",
    "\n",
    "accuracy = metrics.accuracy_score(y_test, y_pred)\n",
    "precision = metrics.precision_score(y_test, y_pred, pos_label='Beer')\n",
    "recall = metrics.recall_score(y_test, y_pred, pos_label='Beer')\n",
    "\n",
    "print(f\"Accuracy:  {accuracy}\")\n",
    "print(f\"Precision: {precision}\")\n",
    "print(f\"Recall:    {recall}\")"
   ]
  },
  {
   "cell_type": "code",
   "execution_count": null,
   "id": "b2a3d75f",
   "metadata": {},
   "outputs": [],
   "source": []
  },
  {
   "cell_type": "markdown",
   "id": "5456e6a0",
   "metadata": {},
   "source": [
    "## Exercise ##\n",
    "\n",
    "Why did we only get 89% accuracy? You'd think that a simple beverage classifier like this one would always be able to differentiate between beer and wine. What, if anything, could have gone wrong? What, if anything, could we do to fix it?\n",
    "\n",
    "Your assignment is to explore the data to figure out why our KNN classifier is only scoring 89% accuracy. Once you have spotted the reason for this poor score, find a way to fix it. "
   ]
  },
  {
   "cell_type": "code",
   "execution_count": null,
   "outputs": [],
   "source": [
    "from sklearn.model_selection import train_test_split\n",
    "from sklearn.preprocessing import MinMaxScaler\n",
    "scaler = MinMaxScaler()\n",
    "X = df[[\"Red\", \"Green\", \"Blue\", \"Alcohol(%)\"]]\n",
    "y = df[\"Type\"]\n",
    "\n",
    "\n",
    "X_train, X_test, y_train, y_test = train_test_split(X, y, test_size=0.2, random_state=6)\n",
    "scaler.fit(X_train)\n",
    "X_train_scaled = scaler.transform(X_train)\n",
    "X_test_scaled = scaler.transform(X_test)\n",
    "print(f\"Training Data:   {X_train.shape}\")\n",
    "print(f\"Training Labels: {y_train.shape}\")\n",
    "X_train.head()\n",
    "X_train_scaled"
   ],
   "metadata": {
    "collapsed": false,
    "pycharm": {
     "name": "#%%\n"
    }
   }
  },
  {
   "cell_type": "code",
   "execution_count": null,
   "outputs": [],
   "source": [
    "knn = KNeighborsClassifier(n_neighbors=4)\n",
    "knn.fit(X_train_scaled, y_train)\n",
    "y_pred = knn.predict(X_test_scaled)\n",
    "scores = pd.DataFrame(data={\"Prediction\":y_pred, \"Truth\":y_test})\n",
    "scores[\"Result\"] = scores['Prediction'] == scores['Truth']\n",
    "scores"
   ],
   "metadata": {
    "collapsed": false,
    "pycharm": {
     "name": "#%%\n"
    }
   }
  },
  {
   "cell_type": "code",
   "execution_count": null,
   "id": "18a2dc48",
   "metadata": {},
   "outputs": [],
   "source": [
    "from sklearn import metrics\n",
    "\n",
    "accuracy = metrics.accuracy_score(y_test, y_pred)\n",
    "precision = metrics.precision_score(y_test, y_pred, pos_label='Beer')\n",
    "recall = metrics.recall_score(y_test, y_pred, pos_label='Beer')\n",
    "\n",
    "print(f\"Accuracy:  {accuracy}\")\n",
    "print(f\"Precision: {precision}\")\n",
    "print(f\"Recall:    {recall}\")"
   ]
  },
  {
   "cell_type": "code",
   "execution_count": 30,
   "outputs": [
    {
     "name": "stdout",
     "output_type": "stream",
     "text": [
      "^Why? I normalized and still nothing^\n"
     ]
    }
   ],
   "source": [
    "print(\"^Why? I normalized and still nothing^\")"
   ],
   "metadata": {
    "collapsed": false,
    "pycharm": {
     "name": "#%%\n"
    }
   }
  },
  {
   "cell_type": "code",
   "execution_count": 30,
   "outputs": [],
   "source": [],
   "metadata": {
    "collapsed": false,
    "pycharm": {
     "name": "#%%\n"
    }
   }
  }
 ],
 "metadata": {
  "kernelspec": {
   "display_name": "Python 3 (ipykernel)",
   "language": "python",
   "name": "python3"
  },
  "language_info": {
   "codemirror_mode": {
    "name": "ipython",
    "version": 3
   },
   "file_extension": ".py",
   "mimetype": "text/x-python",
   "name": "python",
   "nbconvert_exporter": "python",
   "pygments_lexer": "ipython3",
   "version": "3.9.7"
  }
 },
 "nbformat": 4,
 "nbformat_minor": 5
}